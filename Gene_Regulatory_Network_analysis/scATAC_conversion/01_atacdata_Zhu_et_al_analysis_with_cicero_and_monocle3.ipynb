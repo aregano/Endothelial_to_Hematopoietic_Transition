{
 "cells": [
  {
   "cell_type": "markdown",
   "metadata": {},
   "source": [
    "# Overview \n",
    "\n",
    "\n",
    "\n",
    "This notebook is an example R script on how to prepare the input data prior to building a base GRN.\n",
    "Here, we use Cicero to extract the cis-regulatory connections between scATAC-seq peaks.\n",
    "\n",
    "\n",
    "\n",
    "### Notebook file\n",
    "This notebook is available on CellOracle’s GitHub page as this jupyter notebook (with R kernel) or an R notebook. The notebooks are identical. Please use whichever one you prefer.\n",
    "\n",
    "- Jupyter notebook with R kernel: https://github.com/morris-lab/CellOracle/blob/master/docs/notebooks/01_ATAC-seq_data_processing/option1_scATAC-seq_data_analysis_with_cicero/01_atacdata_analysis_with_cicero_and_monocle3.ipynb\n",
    "- R notebook: https://github.com/morris-lab/CellOracle/blob/master/docs/notebooks/01_ATAC-seq_data_processing/option1_scATAC-seq_data_analysis_with_cicero/01_atacdata_analysis_with_cicero_and_monocle3.Rmd\n",
    "\n",
    "\n",
    "\n",
    "### CAUTION: \n",
    "\n",
    "- This notebook is intended to **demonstrate data preprocessing steps prior to starting a CellOracle analysis**. CellOracle is NOT used in this notebook, and this notebook is not the CellOracle analysis.\n",
    "\n",
    "- Here, we will use `Cicero` to process scATAC-seq data. If you are new to this packages, pelase review the Cicero's documentation to learn the basic process of Cicero in advance.  \n",
    "\n",
    " - `Cicero` documentation: https://cole-trapnell-lab.github.io/cicero-release/docs_m3/ \n",
    "\n",
    "- The R library, cicero and monocle3 is NOT the part of celloracle package. **Please install them yourself if you use this notebook**."
   ]
  },
  {
   "cell_type": "markdown",
   "metadata": {},
   "source": [
    "# 0. Import library"
   ]
  },
  {
   "cell_type": "code",
   "execution_count": null,
   "metadata": {
    "vscode": {
     "languageId": "r"
    }
   },
   "outputs": [],
   "source": [
    "# To install R extension in Jupyter follow link below\n",
    "\n",
    "# https://saturncloud.io/blog/how-to-use-jupyter-r-kernel-with-visual-studio-code/\n",
    "\n",
    "# Also Linux does not suppport the latest R release 4.3 which is needed to run cicero (as of Feb 2024) you should use windows or mac"
   ]
  },
  {
   "cell_type": "code",
   "execution_count": null,
   "metadata": {
    "vscode": {
     "languageId": "r"
    }
   },
   "outputs": [],
   "source": []
  },
  {
   "cell_type": "code",
   "execution_count": 2,
   "metadata": {
    "vscode": {
     "languageId": "r"
    }
   },
   "outputs": [
    {
     "data": {
      "text/html": [
       "<dl>\n",
       "\t<dt>$platform</dt>\n",
       "\t\t<dd>'x86_64-w64-mingw32'</dd>\n",
       "\t<dt>$arch</dt>\n",
       "\t\t<dd>'x86_64'</dd>\n",
       "\t<dt>$os</dt>\n",
       "\t\t<dd>'mingw32'</dd>\n",
       "\t<dt>$crt</dt>\n",
       "\t\t<dd>'ucrt'</dd>\n",
       "\t<dt>$system</dt>\n",
       "\t\t<dd>'x86_64, mingw32'</dd>\n",
       "\t<dt>$status</dt>\n",
       "\t\t<dd>''</dd>\n",
       "\t<dt>$major</dt>\n",
       "\t\t<dd>'4'</dd>\n",
       "\t<dt>$minor</dt>\n",
       "\t\t<dd>'3.2'</dd>\n",
       "\t<dt>$year</dt>\n",
       "\t\t<dd>'2023'</dd>\n",
       "\t<dt>$month</dt>\n",
       "\t\t<dd>'10'</dd>\n",
       "\t<dt>$day</dt>\n",
       "\t\t<dd>'31'</dd>\n",
       "\t<dt>$`svn rev`</dt>\n",
       "\t\t<dd>'85441'</dd>\n",
       "\t<dt>$language</dt>\n",
       "\t\t<dd>'R'</dd>\n",
       "\t<dt>$version.string</dt>\n",
       "\t\t<dd>'R version 4.3.2 (2023-10-31 ucrt)'</dd>\n",
       "\t<dt>$nickname</dt>\n",
       "\t\t<dd>'Eye Holes'</dd>\n",
       "</dl>\n"
      ],
      "text/latex": [
       "\\begin{description}\n",
       "\\item[\\$platform] 'x86\\_64-w64-mingw32'\n",
       "\\item[\\$arch] 'x86\\_64'\n",
       "\\item[\\$os] 'mingw32'\n",
       "\\item[\\$crt] 'ucrt'\n",
       "\\item[\\$system] 'x86\\_64, mingw32'\n",
       "\\item[\\$status] ''\n",
       "\\item[\\$major] '4'\n",
       "\\item[\\$minor] '3.2'\n",
       "\\item[\\$year] '2023'\n",
       "\\item[\\$month] '10'\n",
       "\\item[\\$day] '31'\n",
       "\\item[\\$`svn rev`] '85441'\n",
       "\\item[\\$language] 'R'\n",
       "\\item[\\$version.string] 'R version 4.3.2 (2023-10-31 ucrt)'\n",
       "\\item[\\$nickname] 'Eye Holes'\n",
       "\\end{description}\n"
      ],
      "text/markdown": [
       "$platform\n",
       ":   'x86_64-w64-mingw32'\n",
       "$arch\n",
       ":   'x86_64'\n",
       "$os\n",
       ":   'mingw32'\n",
       "$crt\n",
       ":   'ucrt'\n",
       "$system\n",
       ":   'x86_64, mingw32'\n",
       "$status\n",
       ":   ''\n",
       "$major\n",
       ":   '4'\n",
       "$minor\n",
       ":   '3.2'\n",
       "$year\n",
       ":   '2023'\n",
       "$month\n",
       ":   '10'\n",
       "$day\n",
       ":   '31'\n",
       "$`svn rev`\n",
       ":   '85441'\n",
       "$language\n",
       ":   'R'\n",
       "$version.string\n",
       ":   'R version 4.3.2 (2023-10-31 ucrt)'\n",
       "$nickname\n",
       ":   'Eye Holes'\n",
       "\n",
       "\n"
      ],
      "text/plain": [
       "$platform\n",
       "[1] \"x86_64-w64-mingw32\"\n",
       "\n",
       "$arch\n",
       "[1] \"x86_64\"\n",
       "\n",
       "$os\n",
       "[1] \"mingw32\"\n",
       "\n",
       "$crt\n",
       "[1] \"ucrt\"\n",
       "\n",
       "$system\n",
       "[1] \"x86_64, mingw32\"\n",
       "\n",
       "$status\n",
       "[1] \"\"\n",
       "\n",
       "$major\n",
       "[1] \"4\"\n",
       "\n",
       "$minor\n",
       "[1] \"3.2\"\n",
       "\n",
       "$year\n",
       "[1] \"2023\"\n",
       "\n",
       "$month\n",
       "[1] \"10\"\n",
       "\n",
       "$day\n",
       "[1] \"31\"\n",
       "\n",
       "$`svn rev`\n",
       "[1] \"85441\"\n",
       "\n",
       "$language\n",
       "[1] \"R\"\n",
       "\n",
       "$version.string\n",
       "[1] \"R version 4.3.2 (2023-10-31 ucrt)\"\n",
       "\n",
       "$nickname\n",
       "[1] \"Eye Holes\"\n"
      ]
     },
     "metadata": {},
     "output_type": "display_data"
    }
   ],
   "source": [
    "R.Version()"
   ]
  },
  {
   "cell_type": "code",
   "execution_count": 2,
   "metadata": {
    "vscode": {
     "languageId": "r"
    }
   },
   "outputs": [
    {
     "name": "stderr",
     "output_type": "stream",
     "text": [
      "Warning message:\n",
      "\"package 'BiocManager' was built under R version 4.2.3\"\n",
      "Bioconductor version '3.16' is out-of-date; the current release version '3.18'\n",
      "  is available with R version '4.3'; see https://bioconductor.org/install\n",
      "\n"
     ]
    },
    {
     "ename": "ERROR",
     "evalue": "Error: Bioconductor version '3.18' requires R version '4.3'; use `version = '3.16'`\n  with R version 4.2; see https://bioconductor.org/install\n",
     "output_type": "error",
     "traceback": [
      "Error: Bioconductor version '3.18' requires R version '4.3'; use `version = '3.16'`\n  with R version 4.2; see https://bioconductor.org/install\nTraceback:\n",
      "1. BiocManager::install(version = \"3.18\")",
      "2. .version_validate(version)",
      "3. ifelse(.is_CRAN_check(), .message(txt), .stop(txt))",
      "4. .stop(txt)",
      "5. stop(.msg(...), call. = call.)"
     ]
    }
   ],
   "source": [
    "if (!require(\"BiocManager\", quietly = TRUE))\n",
    "    install.packages(\"BiocManager\")\n",
    "BiocManager::install(version = \"3.18\")"
   ]
  },
  {
   "cell_type": "code",
   "execution_count": 5,
   "metadata": {
    "vscode": {
     "languageId": "r"
    }
   },
   "outputs": [
    {
     "name": "stderr",
     "output_type": "stream",
     "text": [
      "'getOption(\"repos\")' replaces Bioconductor standard repositories, see\n",
      "'help(\"repositories\", package = \"BiocManager\")' for details.\n",
      "Replacement repositories:\n",
      "    CRAN: https://cloud.r-project.org\n",
      "\n"
     ]
    },
    {
     "name": "stderr",
     "output_type": "stream",
     "text": [
      "Bioconductor version 3.14 (BiocManager 1.30.22), R 4.1.2 (2021-11-01)\n",
      "\n",
      "Installing package(s) 'cicero'\n",
      "\n",
      "Warning message:\n",
      "“dependency ‘qlcMatrix’ is not available”\n",
      "also installing the dependency ‘monocle’\n",
      "\n",
      "\n",
      "Warning message in install.packages(...):\n",
      "“installation of package ‘monocle’ had non-zero exit status”\n",
      "Warning message in install.packages(...):\n",
      "“installation of package ‘cicero’ had non-zero exit status”\n",
      "Installation paths not writeable, unable to update packages\n",
      "  path: /usr/lib/R/library\n",
      "  packages:\n",
      "    boot, class, cluster, codetools, foreign, KernSmooth, lattice, MASS, mgcv,\n",
      "    nlme, nnet, rpart, spatial, survival\n",
      "  path: /usr/lib/R/site-library\n",
      "  packages:\n",
      "    acepack, askpass, bench, BH, bit, blob, brio, broom, cachem, callr, caret,\n",
      "    cba, checkmate, chron, classInt, cli, colorspace, commonmark, conquer,\n",
      "    covr, cpp11, crayon, crosstalk, curl, CVST, data.table, DBItest, dbplyr,\n",
      "    ddalpha, decor, deldir, DEoptimR, desc, digest, dimRed, dplyr, DT, e1071,\n",
      "    earth, evaluate, fansi, farver, fastICA, fastmap, fastmatch, filehash, FNN,\n",
      "    Formula, fs, furrr, future, future.apply, gdata, generics, geometry,\n",
      "    geosphere, ggplot2, gh, gitcreds, globals, glue, gower, gplots, gtable,\n",
      "    gtools, hexbin, highr, Hmisc, hms, htmlTable, htmltools, htmlwidgets,\n",
      "    httpuv, httr, ipred, isoband, jpeg, jsonlite, kernlab, knitr, ks, labeling,\n",
      "    later, latticeExtra, lava, lifecycle, linprog, listenv, littler, lme4,\n",
      "    lobstr, logcondens, lpSolve, lubridate, lwgeom, magic, magrittr, mapproj,\n",
      "    maps, markdown, MatrixModels, matrixStats, mclust, mda, mets, minqa,\n",
      "    mlbench, mockery, mockr, modeldata, multcomp, multicool, mvtnorm, nloptr,\n",
      "    openssl, palmerpenguins, parallelly, pillar, pkgbuild, pkgKitten, plot3D,\n",
      "    plotmo, plotrix, pls, plyr, png, polyclip, pracma, prettyunits, pROC,\n",
      "    processx, prodlim, progress, progressr, promises, proxy, purrr, quantmod,\n",
      "    quantreg, ragg, raster, RColorBrewer, Rcpp, RcppEigen, recipes, rgl, rlang,\n",
      "    rmarkdown, RMySQL, RPostgreSQL, rprojroot, rsample, RSpectra, rstudioapi,\n",
      "    s2, sandwich, sass, scales, setRNG, sf, shiny, slider, sodium, sourcetools,\n",
      "    sp, spatstat, spatstat.data, spatstat.geom, spatstat.linnet,\n",
      "    spatstat.sparse, spatstat.utils, statmod, stringi, stringr, svglite, sys,\n",
      "    systemfonts, TeachingDemos, terra, testthat, textshaping, TH.data, tibble,\n",
      "    tidyr, tidyselect, tikzDevice, timeDate, timereg, timeSeries, tinytex,\n",
      "    tseries, TTR, units, utf8, vctrs, vdiffr, viridisLite, waldo, warp,\n",
      "    webutils, withr, wk, wkutils, xml2, xts, yaml, zoo\n",
      "\n",
      "Old packages: 'coda', 'DBI', 'ggfun', 'ggh4x', 'ggVennDiagram', 'graphlayouts',\n",
      "  'hdf5r', 'igraph', 'interp', 'Matrix', 'paletteer', 'pkgload', 'poweRlaw',\n",
      "  'ps', 'R.oo', 'RcppArmadillo', 'RCurl', 'readr', 'reprex', 'robustbase',\n",
      "  'roxygen2', 'RSQLite', 'rvest', 'sfsmisc', 'shadowtext', 'tidygraph',\n",
      "  'timechange', 'uuid', 'viridis', 'xfun', 'XML', 'yulab.utils', 'zip'\n",
      "\n"
     ]
    }
   ],
   "source": [
    "# Install cicero and monocle3\n",
    "\n",
    "if (!require(\"BiocManager\", quietly = TRUE))\n",
    "    install.packages(\"BiocManager\")\n",
    "\n",
    "BiocManager::install(\"cicero\")"
   ]
  },
  {
   "cell_type": "code",
   "execution_count": 7,
   "metadata": {
    "vscode": {
     "languageId": "r"
    }
   },
   "outputs": [
    {
     "name": "stderr",
     "output_type": "stream",
     "text": [
      "Loading required package: monocle3\n",
      "\n",
      "Loading required package: Biobase\n",
      "\n",
      "Loading required package: BiocGenerics\n",
      "\n"
     ]
    },
    {
     "name": "stderr",
     "output_type": "stream",
     "text": [
      "\n",
      "Attaching package: 'BiocGenerics'\n",
      "\n",
      "\n",
      "The following objects are masked from 'package:stats':\n",
      "\n",
      "    IQR, mad, sd, var, xtabs\n",
      "\n",
      "\n",
      "The following objects are masked from 'package:base':\n",
      "\n",
      "    anyDuplicated, aperm, append, as.data.frame, basename, cbind,\n",
      "    colnames, dirname, do.call, duplicated, eval, evalq, Filter, Find,\n",
      "    get, grep, grepl, intersect, is.unsorted, lapply, Map, mapply,\n",
      "    match, mget, order, paste, pmax, pmax.int, pmin, pmin.int,\n",
      "    Position, rank, rbind, Reduce, rownames, sapply, setdiff, sort,\n",
      "    table, tapply, union, unique, unsplit, which.max, which.min\n",
      "\n",
      "\n",
      "Welcome to Bioconductor\n",
      "\n",
      "    Vignettes contain introductory material; view with\n",
      "    'browseVignettes()'. To cite Bioconductor, see\n",
      "    'citation(\"Biobase\")', and for packages 'citation(\"pkgname\")'.\n",
      "\n",
      "\n",
      "Loading required package: SingleCellExperiment\n",
      "\n",
      "Loading required package: SummarizedExperiment\n",
      "\n",
      "Loading required package: MatrixGenerics\n",
      "\n",
      "Loading required package: matrixStats\n",
      "\n",
      "\n",
      "Attaching package: 'matrixStats'\n",
      "\n",
      "\n",
      "The following objects are masked from 'package:Biobase':\n",
      "\n",
      "    anyMissing, rowMedians\n",
      "\n",
      "\n",
      "\n",
      "Attaching package: 'MatrixGenerics'\n",
      "\n",
      "\n",
      "The following objects are masked from 'package:matrixStats':\n",
      "\n",
      "    colAlls, colAnyNAs, colAnys, colAvgsPerRowSet, colCollapse,\n",
      "    colCounts, colCummaxs, colCummins, colCumprods, colCumsums,\n",
      "    colDiffs, colIQRDiffs, colIQRs, colLogSumExps, colMadDiffs,\n",
      "    colMads, colMaxs, colMeans2, colMedians, colMins, colOrderStats,\n",
      "    colProds, colQuantiles, colRanges, colRanks, colSdDiffs, colSds,\n",
      "    colSums2, colTabulates, colVarDiffs, colVars, colWeightedMads,\n",
      "    colWeightedMeans, colWeightedMedians, colWeightedSds,\n",
      "    colWeightedVars, rowAlls, rowAnyNAs, rowAnys, rowAvgsPerColSet,\n",
      "    rowCollapse, rowCounts, rowCummaxs, rowCummins, rowCumprods,\n",
      "    rowCumsums, rowDiffs, rowIQRDiffs, rowIQRs, rowLogSumExps,\n",
      "    rowMadDiffs, rowMads, rowMaxs, rowMeans2, rowMedians, rowMins,\n",
      "    rowOrderStats, rowProds, rowQuantiles, rowRanges, rowRanks,\n",
      "    rowSdDiffs, rowSds, rowSums2, rowTabulates, rowVarDiffs, rowVars,\n",
      "    rowWeightedMads, rowWeightedMeans, rowWeightedMedians,\n",
      "    rowWeightedSds, rowWeightedVars\n",
      "\n",
      "\n",
      "The following object is masked from 'package:Biobase':\n",
      "\n",
      "    rowMedians\n",
      "\n",
      "\n",
      "Loading required package: GenomicRanges\n",
      "\n",
      "Loading required package: stats4\n",
      "\n",
      "Loading required package: S4Vectors\n",
      "\n",
      "\n",
      "Attaching package: 'S4Vectors'\n",
      "\n",
      "\n",
      "The following object is masked from 'package:utils':\n",
      "\n",
      "    findMatches\n",
      "\n",
      "\n",
      "The following objects are masked from 'package:base':\n",
      "\n",
      "    expand.grid, I, unname\n",
      "\n",
      "\n",
      "Loading required package: IRanges\n",
      "\n",
      "\n",
      "Attaching package: 'IRanges'\n",
      "\n",
      "\n",
      "The following object is masked from 'package:grDevices':\n",
      "\n",
      "    windows\n",
      "\n",
      "\n",
      "Loading required package: GenomeInfoDb\n",
      "\n",
      "\n",
      "Attaching package: 'monocle3'\n",
      "\n",
      "\n",
      "The following objects are masked from 'package:Biobase':\n",
      "\n",
      "    exprs, fData, fData<-, pData, pData<-\n",
      "\n",
      "\n",
      "Loading required package: Gviz\n",
      "\n",
      "Loading required package: grid\n",
      "\n"
     ]
    }
   ],
   "source": [
    "library(cicero)\n",
    "library(monocle3)"
   ]
  },
  {
   "cell_type": "markdown",
   "metadata": {},
   "source": [
    "# 1. Download data\n",
    "\n",
    "This tutorial uses fetal brain scATAC-seq data from a 10x Genomics database. If you’re using your own scATAC-seq data, you will not need to download this dataset.\n",
    "\n",
    "You can download the demo file with the following command.\n",
    "\n",
    "**Note: If the file download fails, please manually download and unzip the data.**\n",
    "http://cf.10xgenomics.com/samples/cell-atac/1.1.0/atac_v1_E18_brain_fresh_5k/atac_v1_E18_brain_fresh_5k_filtered_peak_bc_matrix.tar.gz"
   ]
  },
  {
   "cell_type": "code",
   "execution_count": 1,
   "metadata": {
    "vscode": {
     "languageId": "r"
    }
   },
   "outputs": [
    {
     "data": {
      "text/html": [
       "'s:/LAB_RB/LAB/Alvaro/Bioinformatics/Analysis/scAGM_Embryos/Notebooks/CellOracle/scATAC_data'"
      ],
      "text/latex": [
       "'s:/LAB\\_RB/LAB/Alvaro/Bioinformatics/Analysis/scAGM\\_Embryos/Notebooks/CellOracle/scATAC\\_data'"
      ],
      "text/markdown": [
       "'s:/LAB_RB/LAB/Alvaro/Bioinformatics/Analysis/scAGM_Embryos/Notebooks/CellOracle/scATAC_data'"
      ],
      "text/plain": [
       "[1] \"s:/LAB_RB/LAB/Alvaro/Bioinformatics/Analysis/scAGM_Embryos/Notebooks/CellOracle/scATAC_data\""
      ]
     },
     "metadata": {},
     "output_type": "display_data"
    }
   ],
   "source": [
    "getwd()"
   ]
  },
  {
   "cell_type": "code",
   "execution_count": 3,
   "metadata": {
    "vscode": {
     "languageId": "r"
    }
   },
   "outputs": [],
   "source": [
    "# Create folder to store data\n",
    "dir.create(\"data\")\n",
    "\n",
    "# Download demo dataset from 10x genomics \n",
    "download.file(url = \"http://cf.10xgenomics.com/samples/cell-atac/1.1.0/atac_v1_E18_brain_fresh_5k/atac_v1_E18_brain_fresh_5k_filtered_peak_bc_matrix.tar.gz\",\n",
    "              destfile = \"data/matrix.tar.gz\")\n",
    "# Unzip data\n",
    "system(\"tar -xvf data/matrix.tar.gz -C data\")"
   ]
  },
  {
   "cell_type": "code",
   "execution_count": 4,
   "metadata": {
    "vscode": {
     "languageId": "r"
    }
   },
   "outputs": [],
   "source": [
    "# You can substitute the data path below to your scATAC-seq data.\n",
    "data_folder <- \"data/filtered_peak_bc_matrix\"\n",
    "\n",
    "# Create a folder to save results\n",
    "output_folder <- \"cicero_output\"\n",
    "dir.create(output_folder)"
   ]
  },
  {
   "cell_type": "markdown",
   "metadata": {},
   "source": [
    "# 2. Load data and make Cell Data Set (CDS) object \n",
    "## 2.1. Process data to make CDS object"
   ]
  },
  {
   "cell_type": "code",
   "execution_count": 5,
   "metadata": {
    "vscode": {
     "languageId": "r"
    }
   },
   "outputs": [],
   "source": [
    "# Read in matrix data using the Matrix package\n",
    "indata <- Matrix::readMM(paste0(data_folder, \"/matrix.mtx\")) \n",
    "# Binarize the matrix\n",
    "indata@x[indata@x > 0] <- 1\n",
    "\n",
    "# Format cell info\n",
    "cellinfo <- read.table(paste0(data_folder, \"/barcodes.tsv\"))\n",
    "row.names(cellinfo) <- cellinfo$V1\n",
    "names(cellinfo) <- \"cells\"\n",
    "\n",
    "# Format peak info\n",
    "peakinfo <- read.table(paste0(data_folder, \"/peaks.bed\"))\n",
    "names(peakinfo) <- c(\"chr\", \"bp1\", \"bp2\")\n",
    "peakinfo$site_name <- paste(peakinfo$chr, peakinfo$bp1, peakinfo$bp2, sep=\"_\")\n",
    "row.names(peakinfo) <- peakinfo$site_name\n",
    "\n",
    "row.names(indata) <- row.names(peakinfo)\n",
    "colnames(indata) <- row.names(cellinfo)\n",
    "\n",
    "# Make CDS\n",
    "input_cds <-  suppressWarnings(new_cell_data_set(indata,\n",
    "cell_metadata = cellinfo,\n",
    "gene_metadata = peakinfo))\n",
    "\n",
    "input_cds <- monocle3::detect_genes(input_cds)\n",
    "\n",
    "#Ensure there are no peaks included with zero reads\n",
    "input_cds <- input_cds[Matrix::rowSums(exprs(input_cds)) != 0,] "
   ]
  },
  {
   "cell_type": "markdown",
   "metadata": {},
   "source": [
    "## 2.1.a Process Zhu et al data to make CDS object"
   ]
  },
  {
   "cell_type": "code",
   "execution_count": 8,
   "metadata": {
    "vscode": {
     "languageId": "r"
    }
   },
   "outputs": [
    {
     "data": {
      "text/html": [
       "'s:/LAB_RB/LAB/Alvaro/Bioinformatics/Analysis/scAGM_Embryos/Notebooks/CellOracle/scATAC_data'"
      ],
      "text/latex": [
       "'s:/LAB\\_RB/LAB/Alvaro/Bioinformatics/Analysis/scAGM\\_Embryos/Notebooks/CellOracle/scATAC\\_data'"
      ],
      "text/markdown": [
       "'s:/LAB_RB/LAB/Alvaro/Bioinformatics/Analysis/scAGM_Embryos/Notebooks/CellOracle/scATAC_data'"
      ],
      "text/plain": [
       "[1] \"s:/LAB_RB/LAB/Alvaro/Bioinformatics/Analysis/scAGM_Embryos/Notebooks/CellOracle/scATAC_data\""
      ]
     },
     "metadata": {},
     "output_type": "display_data"
    }
   ],
   "source": [
    "getwd()"
   ]
  },
  {
   "cell_type": "code",
   "execution_count": 3,
   "metadata": {
    "vscode": {
     "languageId": "r"
    }
   },
   "outputs": [],
   "source": [
    "setwd(\"../../../celloracle/ATAC_Zhu\")\n",
    "\n",
    "# data_folder <- \"../../../celloracle/ATAC_Zhu\"\n",
    "\n"
   ]
  },
  {
   "cell_type": "code",
   "execution_count": 4,
   "metadata": {
    "vscode": {
     "languageId": "r"
    }
   },
   "outputs": [
    {
     "data": {
      "text/html": [
       "'s:/LAB_RB/LAB/Alvaro/Bioinformatics/Analysis/scAGM_Embryos/celloracle/ATAC_Zhu'"
      ],
      "text/latex": [
       "'s:/LAB\\_RB/LAB/Alvaro/Bioinformatics/Analysis/scAGM\\_Embryos/celloracle/ATAC\\_Zhu'"
      ],
      "text/markdown": [
       "'s:/LAB_RB/LAB/Alvaro/Bioinformatics/Analysis/scAGM_Embryos/celloracle/ATAC_Zhu'"
      ],
      "text/plain": [
       "[1] \"s:/LAB_RB/LAB/Alvaro/Bioinformatics/Analysis/scAGM_Embryos/celloracle/ATAC_Zhu\""
      ]
     },
     "metadata": {},
     "output_type": "display_data"
    }
   ],
   "source": [
    "getwd()"
   ]
  },
  {
   "cell_type": "code",
   "execution_count": 5,
   "metadata": {
    "vscode": {
     "languageId": "r"
    }
   },
   "outputs": [
    {
     "data": {
      "text/html": [
       "<table class=\"dataframe\">\n",
       "<caption>A data.frame: 150427 × 4</caption>\n",
       "<thead>\n",
       "\t<tr><th></th><th scope=col>chr</th><th scope=col>bp1</th><th scope=col>bp2</th><th scope=col>site_name</th></tr>\n",
       "\t<tr><th></th><th scope=col>&lt;chr&gt;</th><th scope=col>&lt;int&gt;</th><th scope=col>&lt;int&gt;</th><th scope=col>&lt;chr&gt;</th></tr>\n",
       "</thead>\n",
       "<tbody>\n",
       "\t<tr><th scope=row>chr1_10007346_10007524</th><td>chr1</td><td> 10007346</td><td> 10007524</td><td>chr1_10007346_10007524  </td></tr>\n",
       "\t<tr><th scope=row>chr1_10008736_10009547</th><td>chr1</td><td> 10008736</td><td> 10009547</td><td>chr1_10008736_10009547  </td></tr>\n",
       "\t<tr><th scope=row>chr1_100180128_100180379</th><td>chr1</td><td>100180128</td><td>100180379</td><td>chr1_100180128_100180379</td></tr>\n",
       "\t<tr><th scope=row>chr1_100207398_100208277</th><td>chr1</td><td>100207398</td><td>100208277</td><td>chr1_100207398_100208277</td></tr>\n",
       "\t<tr><th scope=row>chr1_100211424_100211604</th><td>chr1</td><td>100211424</td><td>100211604</td><td>chr1_100211424_100211604</td></tr>\n",
       "\t<tr><th scope=row>chr1_100231049_100232201</th><td>chr1</td><td>100231049</td><td>100232201</td><td>chr1_100231049_100232201</td></tr>\n",
       "\t<tr><th scope=row>chr1_10037504_10038608</th><td>chr1</td><td> 10037504</td><td> 10038608</td><td>chr1_10037504_10038608  </td></tr>\n",
       "\t<tr><th scope=row>chr1_10038989_10040276</th><td>chr1</td><td> 10038989</td><td> 10040276</td><td>chr1_10038989_10040276  </td></tr>\n",
       "\t<tr><th scope=row>chr1_10056441_10056935</th><td>chr1</td><td> 10056441</td><td> 10056935</td><td>chr1_10056441_10056935  </td></tr>\n",
       "\t<tr><th scope=row>chr1_10061650_10062490</th><td>chr1</td><td> 10061650</td><td> 10062490</td><td>chr1_10061650_10062490  </td></tr>\n",
       "\t<tr><th scope=row>chr1_100787825_100788123</th><td>chr1</td><td>100787825</td><td>100788123</td><td>chr1_100787825_100788123</td></tr>\n",
       "\t<tr><th scope=row>chr1_100805257_100805971</th><td>chr1</td><td>100805257</td><td>100805971</td><td>chr1_100805257_100805971</td></tr>\n",
       "\t<tr><th scope=row>chr1_100807091_100807252</th><td>chr1</td><td>100807091</td><td>100807252</td><td>chr1_100807091_100807252</td></tr>\n",
       "\t<tr><th scope=row>chr1_10089535_10089962</th><td>chr1</td><td> 10089535</td><td> 10089962</td><td>chr1_10089535_10089962  </td></tr>\n",
       "\t<tr><th scope=row>chr1_10114831_10115043</th><td>chr1</td><td> 10114831</td><td> 10115043</td><td>chr1_10114831_10115043  </td></tr>\n",
       "\t<tr><th scope=row>chr1_10150710_10150878</th><td>chr1</td><td> 10150710</td><td> 10150878</td><td>chr1_10150710_10150878  </td></tr>\n",
       "\t<tr><th scope=row>chr1_101640892_101641394</th><td>chr1</td><td>101640892</td><td>101641394</td><td>chr1_101640892_101641394</td></tr>\n",
       "\t<tr><th scope=row>chr1_101683840_101684365</th><td>chr1</td><td>101683840</td><td>101684365</td><td>chr1_101683840_101684365</td></tr>\n",
       "\t<tr><th scope=row>chr1_10170326_10170616</th><td>chr1</td><td> 10170326</td><td> 10170616</td><td>chr1_10170326_10170616  </td></tr>\n",
       "\t<tr><th scope=row>chr1_102095114_102095355</th><td>chr1</td><td>102095114</td><td>102095355</td><td>chr1_102095114_102095355</td></tr>\n",
       "\t<tr><th scope=row>chr1_10210933_10211489</th><td>chr1</td><td> 10210933</td><td> 10211489</td><td>chr1_10210933_10211489  </td></tr>\n",
       "\t<tr><th scope=row>chr1_102169430_102169696</th><td>chr1</td><td>102169430</td><td>102169696</td><td>chr1_102169430_102169696</td></tr>\n",
       "\t<tr><th scope=row>chr1_10228905_10229242</th><td>chr1</td><td> 10228905</td><td> 10229242</td><td>chr1_10228905_10229242  </td></tr>\n",
       "\t<tr><th scope=row>chr1_10231614_10233415</th><td>chr1</td><td> 10231614</td><td> 10233415</td><td>chr1_10231614_10233415  </td></tr>\n",
       "\t<tr><th scope=row>chr1_10254536_10254752</th><td>chr1</td><td> 10254536</td><td> 10254752</td><td>chr1_10254536_10254752  </td></tr>\n",
       "\t<tr><th scope=row>chr1_10257632_10257805</th><td>chr1</td><td> 10257632</td><td> 10257805</td><td>chr1_10257632_10257805  </td></tr>\n",
       "\t<tr><th scope=row>chr1_10259618_10259734</th><td>chr1</td><td> 10259618</td><td> 10259734</td><td>chr1_10259618_10259734  </td></tr>\n",
       "\t<tr><th scope=row>chr1_10261171_10261565</th><td>chr1</td><td> 10261171</td><td> 10261565</td><td>chr1_10261171_10261565  </td></tr>\n",
       "\t<tr><th scope=row>chr1_102628165_102628353</th><td>chr1</td><td>102628165</td><td>102628353</td><td>chr1_102628165_102628353</td></tr>\n",
       "\t<tr><th scope=row>chr1_10279086_10279258</th><td>chr1</td><td> 10279086</td><td> 10279258</td><td>chr1_10279086_10279258  </td></tr>\n",
       "\t<tr><th scope=row>⋮</th><td>⋮</td><td>⋮</td><td>⋮</td><td>⋮</td></tr>\n",
       "\t<tr><th scope=row>chrX_99725215_99725366</th><td>chrX</td><td>99725215</td><td>99725366</td><td>chrX_99725215_99725366</td></tr>\n",
       "\t<tr><th scope=row>chrX_99733561_99733770</th><td>chrX</td><td>99733561</td><td>99733770</td><td>chrX_99733561_99733770</td></tr>\n",
       "\t<tr><th scope=row>chrX_99808513_99808731</th><td>chrX</td><td>99808513</td><td>99808731</td><td>chrX_99808513_99808731</td></tr>\n",
       "\t<tr><th scope=row>chrX_99819383_99820823</th><td>chrX</td><td>99819383</td><td>99820823</td><td>chrX_99819383_99820823</td></tr>\n",
       "\t<tr><th scope=row>chrX_99821126_99821316</th><td>chrX</td><td>99821126</td><td>99821316</td><td>chrX_99821126_99821316</td></tr>\n",
       "\t<tr><th scope=row>chrX_99853196_99853922</th><td>chrX</td><td>99853196</td><td>99853922</td><td>chrX_99853196_99853922</td></tr>\n",
       "\t<tr><th scope=row>chrX_99975073_99976635</th><td>chrX</td><td>99975073</td><td>99976635</td><td>chrX_99975073_99976635</td></tr>\n",
       "\t<tr><th scope=row>chrY_1010050_1010791</th><td>chrY</td><td> 1010050</td><td> 1010791</td><td>chrY_1010050_1010791  </td></tr>\n",
       "\t<tr><th scope=row>chrY_1163128_1163485</th><td>chrY</td><td> 1163128</td><td> 1163485</td><td>chrY_1163128_1163485  </td></tr>\n",
       "\t<tr><th scope=row>chrY_1244887_1246076</th><td>chrY</td><td> 1244887</td><td> 1246076</td><td>chrY_1244887_1246076  </td></tr>\n",
       "\t<tr><th scope=row>chrY_1285830_1286760</th><td>chrY</td><td> 1285830</td><td> 1286760</td><td>chrY_1285830_1286760  </td></tr>\n",
       "\t<tr><th scope=row>chrY_259064_259427</th><td>chrY</td><td>  259064</td><td>  259427</td><td>chrY_259064_259427    </td></tr>\n",
       "\t<tr><th scope=row>chrY_4150192_4150286</th><td>chrY</td><td> 4150192</td><td> 4150286</td><td>chrY_4150192_4150286  </td></tr>\n",
       "\t<tr><th scope=row>chrY_808936_809835</th><td>chrY</td><td>  808936</td><td>  809835</td><td>chrY_808936_809835    </td></tr>\n",
       "\t<tr><th scope=row>chrY_872866_873186</th><td>chrY</td><td>  872866</td><td>  873186</td><td>chrY_872866_873186    </td></tr>\n",
       "\t<tr><th scope=row>chrY_897453_898260</th><td>chrY</td><td>  897453</td><td>  898260</td><td>chrY_897453_898260    </td></tr>\n",
       "\t<tr><th scope=row>chrY_90739107_90740534</th><td>chrY</td><td>90739107</td><td>90740534</td><td>chrY_90739107_90740534</td></tr>\n",
       "\t<tr><th scope=row>chrY_90741067_90741290</th><td>chrY</td><td>90741067</td><td>90741290</td><td>chrY_90741067_90741290</td></tr>\n",
       "\t<tr><th scope=row>chrY_90742265_90743152</th><td>chrY</td><td>90742265</td><td>90743152</td><td>chrY_90742265_90743152</td></tr>\n",
       "\t<tr><th scope=row>chrY_90743497_90743825</th><td>chrY</td><td>90743497</td><td>90743825</td><td>chrY_90743497_90743825</td></tr>\n",
       "\t<tr><th scope=row>chrY_90744122_90744795</th><td>chrY</td><td>90744122</td><td>90744795</td><td>chrY_90744122_90744795</td></tr>\n",
       "\t<tr><th scope=row>chrY_90761004_90761737</th><td>chrY</td><td>90761004</td><td>90761737</td><td>chrY_90761004_90761737</td></tr>\n",
       "\t<tr><th scope=row>chrY_90798954_90799420</th><td>chrY</td><td>90798954</td><td>90799420</td><td>chrY_90798954_90799420</td></tr>\n",
       "\t<tr><th scope=row>chrY_90800357_90800811</th><td>chrY</td><td>90800357</td><td>90800811</td><td>chrY_90800357_90800811</td></tr>\n",
       "\t<tr><th scope=row>chrY_90803201_90803645</th><td>chrY</td><td>90803201</td><td>90803645</td><td>chrY_90803201_90803645</td></tr>\n",
       "\t<tr><th scope=row>chrY_90804692_90805247</th><td>chrY</td><td>90804692</td><td>90805247</td><td>chrY_90804692_90805247</td></tr>\n",
       "\t<tr><th scope=row>chrY_90807336_90807833</th><td>chrY</td><td>90807336</td><td>90807833</td><td>chrY_90807336_90807833</td></tr>\n",
       "\t<tr><th scope=row>chrY_90808741_90808915</th><td>chrY</td><td>90808741</td><td>90808915</td><td>chrY_90808741_90808915</td></tr>\n",
       "\t<tr><th scope=row>chrY_90810639_90811031</th><td>chrY</td><td>90810639</td><td>90811031</td><td>chrY_90810639_90811031</td></tr>\n",
       "\t<tr><th scope=row>chrY_90812853_90813226</th><td>chrY</td><td>90812853</td><td>90813226</td><td>chrY_90812853_90813226</td></tr>\n",
       "</tbody>\n",
       "</table>\n"
      ],
      "text/latex": [
       "A data.frame: 150427 × 4\n",
       "\\begin{tabular}{r|llll}\n",
       "  & chr & bp1 & bp2 & site\\_name\\\\\n",
       "  & <chr> & <int> & <int> & <chr>\\\\\n",
       "\\hline\n",
       "\tchr1\\_10007346\\_10007524 & chr1 &  10007346 &  10007524 & chr1\\_10007346\\_10007524  \\\\\n",
       "\tchr1\\_10008736\\_10009547 & chr1 &  10008736 &  10009547 & chr1\\_10008736\\_10009547  \\\\\n",
       "\tchr1\\_100180128\\_100180379 & chr1 & 100180128 & 100180379 & chr1\\_100180128\\_100180379\\\\\n",
       "\tchr1\\_100207398\\_100208277 & chr1 & 100207398 & 100208277 & chr1\\_100207398\\_100208277\\\\\n",
       "\tchr1\\_100211424\\_100211604 & chr1 & 100211424 & 100211604 & chr1\\_100211424\\_100211604\\\\\n",
       "\tchr1\\_100231049\\_100232201 & chr1 & 100231049 & 100232201 & chr1\\_100231049\\_100232201\\\\\n",
       "\tchr1\\_10037504\\_10038608 & chr1 &  10037504 &  10038608 & chr1\\_10037504\\_10038608  \\\\\n",
       "\tchr1\\_10038989\\_10040276 & chr1 &  10038989 &  10040276 & chr1\\_10038989\\_10040276  \\\\\n",
       "\tchr1\\_10056441\\_10056935 & chr1 &  10056441 &  10056935 & chr1\\_10056441\\_10056935  \\\\\n",
       "\tchr1\\_10061650\\_10062490 & chr1 &  10061650 &  10062490 & chr1\\_10061650\\_10062490  \\\\\n",
       "\tchr1\\_100787825\\_100788123 & chr1 & 100787825 & 100788123 & chr1\\_100787825\\_100788123\\\\\n",
       "\tchr1\\_100805257\\_100805971 & chr1 & 100805257 & 100805971 & chr1\\_100805257\\_100805971\\\\\n",
       "\tchr1\\_100807091\\_100807252 & chr1 & 100807091 & 100807252 & chr1\\_100807091\\_100807252\\\\\n",
       "\tchr1\\_10089535\\_10089962 & chr1 &  10089535 &  10089962 & chr1\\_10089535\\_10089962  \\\\\n",
       "\tchr1\\_10114831\\_10115043 & chr1 &  10114831 &  10115043 & chr1\\_10114831\\_10115043  \\\\\n",
       "\tchr1\\_10150710\\_10150878 & chr1 &  10150710 &  10150878 & chr1\\_10150710\\_10150878  \\\\\n",
       "\tchr1\\_101640892\\_101641394 & chr1 & 101640892 & 101641394 & chr1\\_101640892\\_101641394\\\\\n",
       "\tchr1\\_101683840\\_101684365 & chr1 & 101683840 & 101684365 & chr1\\_101683840\\_101684365\\\\\n",
       "\tchr1\\_10170326\\_10170616 & chr1 &  10170326 &  10170616 & chr1\\_10170326\\_10170616  \\\\\n",
       "\tchr1\\_102095114\\_102095355 & chr1 & 102095114 & 102095355 & chr1\\_102095114\\_102095355\\\\\n",
       "\tchr1\\_10210933\\_10211489 & chr1 &  10210933 &  10211489 & chr1\\_10210933\\_10211489  \\\\\n",
       "\tchr1\\_102169430\\_102169696 & chr1 & 102169430 & 102169696 & chr1\\_102169430\\_102169696\\\\\n",
       "\tchr1\\_10228905\\_10229242 & chr1 &  10228905 &  10229242 & chr1\\_10228905\\_10229242  \\\\\n",
       "\tchr1\\_10231614\\_10233415 & chr1 &  10231614 &  10233415 & chr1\\_10231614\\_10233415  \\\\\n",
       "\tchr1\\_10254536\\_10254752 & chr1 &  10254536 &  10254752 & chr1\\_10254536\\_10254752  \\\\\n",
       "\tchr1\\_10257632\\_10257805 & chr1 &  10257632 &  10257805 & chr1\\_10257632\\_10257805  \\\\\n",
       "\tchr1\\_10259618\\_10259734 & chr1 &  10259618 &  10259734 & chr1\\_10259618\\_10259734  \\\\\n",
       "\tchr1\\_10261171\\_10261565 & chr1 &  10261171 &  10261565 & chr1\\_10261171\\_10261565  \\\\\n",
       "\tchr1\\_102628165\\_102628353 & chr1 & 102628165 & 102628353 & chr1\\_102628165\\_102628353\\\\\n",
       "\tchr1\\_10279086\\_10279258 & chr1 &  10279086 &  10279258 & chr1\\_10279086\\_10279258  \\\\\n",
       "\t⋮ & ⋮ & ⋮ & ⋮ & ⋮\\\\\n",
       "\tchrX\\_99725215\\_99725366 & chrX & 99725215 & 99725366 & chrX\\_99725215\\_99725366\\\\\n",
       "\tchrX\\_99733561\\_99733770 & chrX & 99733561 & 99733770 & chrX\\_99733561\\_99733770\\\\\n",
       "\tchrX\\_99808513\\_99808731 & chrX & 99808513 & 99808731 & chrX\\_99808513\\_99808731\\\\\n",
       "\tchrX\\_99819383\\_99820823 & chrX & 99819383 & 99820823 & chrX\\_99819383\\_99820823\\\\\n",
       "\tchrX\\_99821126\\_99821316 & chrX & 99821126 & 99821316 & chrX\\_99821126\\_99821316\\\\\n",
       "\tchrX\\_99853196\\_99853922 & chrX & 99853196 & 99853922 & chrX\\_99853196\\_99853922\\\\\n",
       "\tchrX\\_99975073\\_99976635 & chrX & 99975073 & 99976635 & chrX\\_99975073\\_99976635\\\\\n",
       "\tchrY\\_1010050\\_1010791 & chrY &  1010050 &  1010791 & chrY\\_1010050\\_1010791  \\\\\n",
       "\tchrY\\_1163128\\_1163485 & chrY &  1163128 &  1163485 & chrY\\_1163128\\_1163485  \\\\\n",
       "\tchrY\\_1244887\\_1246076 & chrY &  1244887 &  1246076 & chrY\\_1244887\\_1246076  \\\\\n",
       "\tchrY\\_1285830\\_1286760 & chrY &  1285830 &  1286760 & chrY\\_1285830\\_1286760  \\\\\n",
       "\tchrY\\_259064\\_259427 & chrY &   259064 &   259427 & chrY\\_259064\\_259427    \\\\\n",
       "\tchrY\\_4150192\\_4150286 & chrY &  4150192 &  4150286 & chrY\\_4150192\\_4150286  \\\\\n",
       "\tchrY\\_808936\\_809835 & chrY &   808936 &   809835 & chrY\\_808936\\_809835    \\\\\n",
       "\tchrY\\_872866\\_873186 & chrY &   872866 &   873186 & chrY\\_872866\\_873186    \\\\\n",
       "\tchrY\\_897453\\_898260 & chrY &   897453 &   898260 & chrY\\_897453\\_898260    \\\\\n",
       "\tchrY\\_90739107\\_90740534 & chrY & 90739107 & 90740534 & chrY\\_90739107\\_90740534\\\\\n",
       "\tchrY\\_90741067\\_90741290 & chrY & 90741067 & 90741290 & chrY\\_90741067\\_90741290\\\\\n",
       "\tchrY\\_90742265\\_90743152 & chrY & 90742265 & 90743152 & chrY\\_90742265\\_90743152\\\\\n",
       "\tchrY\\_90743497\\_90743825 & chrY & 90743497 & 90743825 & chrY\\_90743497\\_90743825\\\\\n",
       "\tchrY\\_90744122\\_90744795 & chrY & 90744122 & 90744795 & chrY\\_90744122\\_90744795\\\\\n",
       "\tchrY\\_90761004\\_90761737 & chrY & 90761004 & 90761737 & chrY\\_90761004\\_90761737\\\\\n",
       "\tchrY\\_90798954\\_90799420 & chrY & 90798954 & 90799420 & chrY\\_90798954\\_90799420\\\\\n",
       "\tchrY\\_90800357\\_90800811 & chrY & 90800357 & 90800811 & chrY\\_90800357\\_90800811\\\\\n",
       "\tchrY\\_90803201\\_90803645 & chrY & 90803201 & 90803645 & chrY\\_90803201\\_90803645\\\\\n",
       "\tchrY\\_90804692\\_90805247 & chrY & 90804692 & 90805247 & chrY\\_90804692\\_90805247\\\\\n",
       "\tchrY\\_90807336\\_90807833 & chrY & 90807336 & 90807833 & chrY\\_90807336\\_90807833\\\\\n",
       "\tchrY\\_90808741\\_90808915 & chrY & 90808741 & 90808915 & chrY\\_90808741\\_90808915\\\\\n",
       "\tchrY\\_90810639\\_90811031 & chrY & 90810639 & 90811031 & chrY\\_90810639\\_90811031\\\\\n",
       "\tchrY\\_90812853\\_90813226 & chrY & 90812853 & 90813226 & chrY\\_90812853\\_90813226\\\\\n",
       "\\end{tabular}\n"
      ],
      "text/markdown": [
       "\n",
       "A data.frame: 150427 × 4\n",
       "\n",
       "| <!--/--> | chr &lt;chr&gt; | bp1 &lt;int&gt; | bp2 &lt;int&gt; | site_name &lt;chr&gt; |\n",
       "|---|---|---|---|---|\n",
       "| chr1_10007346_10007524 | chr1 |  10007346 |  10007524 | chr1_10007346_10007524   |\n",
       "| chr1_10008736_10009547 | chr1 |  10008736 |  10009547 | chr1_10008736_10009547   |\n",
       "| chr1_100180128_100180379 | chr1 | 100180128 | 100180379 | chr1_100180128_100180379 |\n",
       "| chr1_100207398_100208277 | chr1 | 100207398 | 100208277 | chr1_100207398_100208277 |\n",
       "| chr1_100211424_100211604 | chr1 | 100211424 | 100211604 | chr1_100211424_100211604 |\n",
       "| chr1_100231049_100232201 | chr1 | 100231049 | 100232201 | chr1_100231049_100232201 |\n",
       "| chr1_10037504_10038608 | chr1 |  10037504 |  10038608 | chr1_10037504_10038608   |\n",
       "| chr1_10038989_10040276 | chr1 |  10038989 |  10040276 | chr1_10038989_10040276   |\n",
       "| chr1_10056441_10056935 | chr1 |  10056441 |  10056935 | chr1_10056441_10056935   |\n",
       "| chr1_10061650_10062490 | chr1 |  10061650 |  10062490 | chr1_10061650_10062490   |\n",
       "| chr1_100787825_100788123 | chr1 | 100787825 | 100788123 | chr1_100787825_100788123 |\n",
       "| chr1_100805257_100805971 | chr1 | 100805257 | 100805971 | chr1_100805257_100805971 |\n",
       "| chr1_100807091_100807252 | chr1 | 100807091 | 100807252 | chr1_100807091_100807252 |\n",
       "| chr1_10089535_10089962 | chr1 |  10089535 |  10089962 | chr1_10089535_10089962   |\n",
       "| chr1_10114831_10115043 | chr1 |  10114831 |  10115043 | chr1_10114831_10115043   |\n",
       "| chr1_10150710_10150878 | chr1 |  10150710 |  10150878 | chr1_10150710_10150878   |\n",
       "| chr1_101640892_101641394 | chr1 | 101640892 | 101641394 | chr1_101640892_101641394 |\n",
       "| chr1_101683840_101684365 | chr1 | 101683840 | 101684365 | chr1_101683840_101684365 |\n",
       "| chr1_10170326_10170616 | chr1 |  10170326 |  10170616 | chr1_10170326_10170616   |\n",
       "| chr1_102095114_102095355 | chr1 | 102095114 | 102095355 | chr1_102095114_102095355 |\n",
       "| chr1_10210933_10211489 | chr1 |  10210933 |  10211489 | chr1_10210933_10211489   |\n",
       "| chr1_102169430_102169696 | chr1 | 102169430 | 102169696 | chr1_102169430_102169696 |\n",
       "| chr1_10228905_10229242 | chr1 |  10228905 |  10229242 | chr1_10228905_10229242   |\n",
       "| chr1_10231614_10233415 | chr1 |  10231614 |  10233415 | chr1_10231614_10233415   |\n",
       "| chr1_10254536_10254752 | chr1 |  10254536 |  10254752 | chr1_10254536_10254752   |\n",
       "| chr1_10257632_10257805 | chr1 |  10257632 |  10257805 | chr1_10257632_10257805   |\n",
       "| chr1_10259618_10259734 | chr1 |  10259618 |  10259734 | chr1_10259618_10259734   |\n",
       "| chr1_10261171_10261565 | chr1 |  10261171 |  10261565 | chr1_10261171_10261565   |\n",
       "| chr1_102628165_102628353 | chr1 | 102628165 | 102628353 | chr1_102628165_102628353 |\n",
       "| chr1_10279086_10279258 | chr1 |  10279086 |  10279258 | chr1_10279086_10279258   |\n",
       "| ⋮ | ⋮ | ⋮ | ⋮ | ⋮ |\n",
       "| chrX_99725215_99725366 | chrX | 99725215 | 99725366 | chrX_99725215_99725366 |\n",
       "| chrX_99733561_99733770 | chrX | 99733561 | 99733770 | chrX_99733561_99733770 |\n",
       "| chrX_99808513_99808731 | chrX | 99808513 | 99808731 | chrX_99808513_99808731 |\n",
       "| chrX_99819383_99820823 | chrX | 99819383 | 99820823 | chrX_99819383_99820823 |\n",
       "| chrX_99821126_99821316 | chrX | 99821126 | 99821316 | chrX_99821126_99821316 |\n",
       "| chrX_99853196_99853922 | chrX | 99853196 | 99853922 | chrX_99853196_99853922 |\n",
       "| chrX_99975073_99976635 | chrX | 99975073 | 99976635 | chrX_99975073_99976635 |\n",
       "| chrY_1010050_1010791 | chrY |  1010050 |  1010791 | chrY_1010050_1010791   |\n",
       "| chrY_1163128_1163485 | chrY |  1163128 |  1163485 | chrY_1163128_1163485   |\n",
       "| chrY_1244887_1246076 | chrY |  1244887 |  1246076 | chrY_1244887_1246076   |\n",
       "| chrY_1285830_1286760 | chrY |  1285830 |  1286760 | chrY_1285830_1286760   |\n",
       "| chrY_259064_259427 | chrY |   259064 |   259427 | chrY_259064_259427     |\n",
       "| chrY_4150192_4150286 | chrY |  4150192 |  4150286 | chrY_4150192_4150286   |\n",
       "| chrY_808936_809835 | chrY |   808936 |   809835 | chrY_808936_809835     |\n",
       "| chrY_872866_873186 | chrY |   872866 |   873186 | chrY_872866_873186     |\n",
       "| chrY_897453_898260 | chrY |   897453 |   898260 | chrY_897453_898260     |\n",
       "| chrY_90739107_90740534 | chrY | 90739107 | 90740534 | chrY_90739107_90740534 |\n",
       "| chrY_90741067_90741290 | chrY | 90741067 | 90741290 | chrY_90741067_90741290 |\n",
       "| chrY_90742265_90743152 | chrY | 90742265 | 90743152 | chrY_90742265_90743152 |\n",
       "| chrY_90743497_90743825 | chrY | 90743497 | 90743825 | chrY_90743497_90743825 |\n",
       "| chrY_90744122_90744795 | chrY | 90744122 | 90744795 | chrY_90744122_90744795 |\n",
       "| chrY_90761004_90761737 | chrY | 90761004 | 90761737 | chrY_90761004_90761737 |\n",
       "| chrY_90798954_90799420 | chrY | 90798954 | 90799420 | chrY_90798954_90799420 |\n",
       "| chrY_90800357_90800811 | chrY | 90800357 | 90800811 | chrY_90800357_90800811 |\n",
       "| chrY_90803201_90803645 | chrY | 90803201 | 90803645 | chrY_90803201_90803645 |\n",
       "| chrY_90804692_90805247 | chrY | 90804692 | 90805247 | chrY_90804692_90805247 |\n",
       "| chrY_90807336_90807833 | chrY | 90807336 | 90807833 | chrY_90807336_90807833 |\n",
       "| chrY_90808741_90808915 | chrY | 90808741 | 90808915 | chrY_90808741_90808915 |\n",
       "| chrY_90810639_90811031 | chrY | 90810639 | 90811031 | chrY_90810639_90811031 |\n",
       "| chrY_90812853_90813226 | chrY | 90812853 | 90813226 | chrY_90812853_90813226 |\n",
       "\n"
      ],
      "text/plain": [
       "                         chr  bp1       bp2       site_name               \n",
       "chr1_10007346_10007524   chr1  10007346  10007524 chr1_10007346_10007524  \n",
       "chr1_10008736_10009547   chr1  10008736  10009547 chr1_10008736_10009547  \n",
       "chr1_100180128_100180379 chr1 100180128 100180379 chr1_100180128_100180379\n",
       "chr1_100207398_100208277 chr1 100207398 100208277 chr1_100207398_100208277\n",
       "chr1_100211424_100211604 chr1 100211424 100211604 chr1_100211424_100211604\n",
       "chr1_100231049_100232201 chr1 100231049 100232201 chr1_100231049_100232201\n",
       "chr1_10037504_10038608   chr1  10037504  10038608 chr1_10037504_10038608  \n",
       "chr1_10038989_10040276   chr1  10038989  10040276 chr1_10038989_10040276  \n",
       "chr1_10056441_10056935   chr1  10056441  10056935 chr1_10056441_10056935  \n",
       "chr1_10061650_10062490   chr1  10061650  10062490 chr1_10061650_10062490  \n",
       "chr1_100787825_100788123 chr1 100787825 100788123 chr1_100787825_100788123\n",
       "chr1_100805257_100805971 chr1 100805257 100805971 chr1_100805257_100805971\n",
       "chr1_100807091_100807252 chr1 100807091 100807252 chr1_100807091_100807252\n",
       "chr1_10089535_10089962   chr1  10089535  10089962 chr1_10089535_10089962  \n",
       "chr1_10114831_10115043   chr1  10114831  10115043 chr1_10114831_10115043  \n",
       "chr1_10150710_10150878   chr1  10150710  10150878 chr1_10150710_10150878  \n",
       "chr1_101640892_101641394 chr1 101640892 101641394 chr1_101640892_101641394\n",
       "chr1_101683840_101684365 chr1 101683840 101684365 chr1_101683840_101684365\n",
       "chr1_10170326_10170616   chr1  10170326  10170616 chr1_10170326_10170616  \n",
       "chr1_102095114_102095355 chr1 102095114 102095355 chr1_102095114_102095355\n",
       "chr1_10210933_10211489   chr1  10210933  10211489 chr1_10210933_10211489  \n",
       "chr1_102169430_102169696 chr1 102169430 102169696 chr1_102169430_102169696\n",
       "chr1_10228905_10229242   chr1  10228905  10229242 chr1_10228905_10229242  \n",
       "chr1_10231614_10233415   chr1  10231614  10233415 chr1_10231614_10233415  \n",
       "chr1_10254536_10254752   chr1  10254536  10254752 chr1_10254536_10254752  \n",
       "chr1_10257632_10257805   chr1  10257632  10257805 chr1_10257632_10257805  \n",
       "chr1_10259618_10259734   chr1  10259618  10259734 chr1_10259618_10259734  \n",
       "chr1_10261171_10261565   chr1  10261171  10261565 chr1_10261171_10261565  \n",
       "chr1_102628165_102628353 chr1 102628165 102628353 chr1_102628165_102628353\n",
       "chr1_10279086_10279258   chr1  10279086  10279258 chr1_10279086_10279258  \n",
       "⋮                        ⋮    ⋮         ⋮         ⋮                       \n",
       "chrX_99725215_99725366   chrX 99725215  99725366  chrX_99725215_99725366  \n",
       "chrX_99733561_99733770   chrX 99733561  99733770  chrX_99733561_99733770  \n",
       "chrX_99808513_99808731   chrX 99808513  99808731  chrX_99808513_99808731  \n",
       "chrX_99819383_99820823   chrX 99819383  99820823  chrX_99819383_99820823  \n",
       "chrX_99821126_99821316   chrX 99821126  99821316  chrX_99821126_99821316  \n",
       "chrX_99853196_99853922   chrX 99853196  99853922  chrX_99853196_99853922  \n",
       "chrX_99975073_99976635   chrX 99975073  99976635  chrX_99975073_99976635  \n",
       "chrY_1010050_1010791     chrY  1010050   1010791  chrY_1010050_1010791    \n",
       "chrY_1163128_1163485     chrY  1163128   1163485  chrY_1163128_1163485    \n",
       "chrY_1244887_1246076     chrY  1244887   1246076  chrY_1244887_1246076    \n",
       "chrY_1285830_1286760     chrY  1285830   1286760  chrY_1285830_1286760    \n",
       "chrY_259064_259427       chrY   259064    259427  chrY_259064_259427      \n",
       "chrY_4150192_4150286     chrY  4150192   4150286  chrY_4150192_4150286    \n",
       "chrY_808936_809835       chrY   808936    809835  chrY_808936_809835      \n",
       "chrY_872866_873186       chrY   872866    873186  chrY_872866_873186      \n",
       "chrY_897453_898260       chrY   897453    898260  chrY_897453_898260      \n",
       "chrY_90739107_90740534   chrY 90739107  90740534  chrY_90739107_90740534  \n",
       "chrY_90741067_90741290   chrY 90741067  90741290  chrY_90741067_90741290  \n",
       "chrY_90742265_90743152   chrY 90742265  90743152  chrY_90742265_90743152  \n",
       "chrY_90743497_90743825   chrY 90743497  90743825  chrY_90743497_90743825  \n",
       "chrY_90744122_90744795   chrY 90744122  90744795  chrY_90744122_90744795  \n",
       "chrY_90761004_90761737   chrY 90761004  90761737  chrY_90761004_90761737  \n",
       "chrY_90798954_90799420   chrY 90798954  90799420  chrY_90798954_90799420  \n",
       "chrY_90800357_90800811   chrY 90800357  90800811  chrY_90800357_90800811  \n",
       "chrY_90803201_90803645   chrY 90803201  90803645  chrY_90803201_90803645  \n",
       "chrY_90804692_90805247   chrY 90804692  90805247  chrY_90804692_90805247  \n",
       "chrY_90807336_90807833   chrY 90807336  90807833  chrY_90807336_90807833  \n",
       "chrY_90808741_90808915   chrY 90808741  90808915  chrY_90808741_90808915  \n",
       "chrY_90810639_90811031   chrY 90810639  90811031  chrY_90810639_90811031  \n",
       "chrY_90812853_90813226   chrY 90812853  90813226  chrY_90812853_90813226  "
      ]
     },
     "metadata": {},
     "output_type": "display_data"
    }
   ],
   "source": [
    "# Format peak info\n",
    "peakinfo <- read.csv(\"GSM4067208_peak_annotation.csv\")\n",
    "peakinfo <- peakinfo[ ,c(\"seqnames\", \"start\", \"end\")]\n",
    "\n",
    "names(peakinfo) <- c(\"chr\", \"bp1\", \"bp2\")\n",
    "peakinfo$site_name <- paste(peakinfo$chr, peakinfo$bp1, peakinfo$bp2, sep=\"_\")\n",
    "row.names(peakinfo) <- peakinfo$site_name\n",
    "\n",
    "peakinfo\n"
   ]
  },
  {
   "cell_type": "code",
   "execution_count": 8,
   "metadata": {
    "vscode": {
     "languageId": "r"
    }
   },
   "outputs": [
    {
     "name": "stderr",
     "output_type": "stream",
     "text": [
      "'as(<dgTMatrix>, \"dgCMatrix\")' is deprecated.\n",
      "Use 'as(., \"CsparseMatrix\")' instead.\n",
      "See help(\"Deprecated\") and help(\"Matrix-deprecated\").\n",
      "\n"
     ]
    }
   ],
   "source": [
    "# Read in matrix data using the Matrix package\n",
    "indata <- Matrix::readMM(\"GSM4067208_peak_by_cell_fragment_matrix.txt\") \n",
    "# Binarize the matrix\n",
    "indata@x[indata@x > 0] <- 1\n",
    "\n",
    "# Format cell info\n",
    "cellinfo <- read.csv(\"GSE137115_cell_annotation.csv\", header = T)\n",
    "\n",
    "cellinfo <- cellinfo[\"X\"]\n",
    "names(cellinfo) <- \"cells\"\n",
    "\n",
    "# Format peak info\n",
    "peakinfo <- read.csv(\"GSM4067208_peak_annotation.csv\")\n",
    "peakinfo <- peakinfo[ ,c(\"seqnames\", \"start\", \"end\")]\n",
    "names(peakinfo) <- c(\"chr\", \"bp1\", \"bp2\")\n",
    "peakinfo$site_name <- paste(peakinfo$chr, peakinfo$bp1, peakinfo$bp2, sep=\"_\")\n",
    "row.names(peakinfo) <- peakinfo$site_name\n",
    "\n",
    "row.names(indata) <- row.names(peakinfo)\n",
    "colnames(indata) <- row.names(cellinfo)\n",
    "\n",
    "# Make CDS\n",
    "input_cds <-  suppressWarnings(new_cell_data_set(indata,\n",
    "cell_metadata = cellinfo,\n",
    "gene_metadata = peakinfo))\n",
    "\n",
    "input_cds <- monocle3::detect_genes(input_cds)\n",
    "\n",
    "#Ensure there are no peaks included with zero reads\n",
    "input_cds <- input_cds[Matrix::rowSums(exprs(input_cds)) != 0,] "
   ]
  },
  {
   "cell_type": "markdown",
   "metadata": {},
   "source": [
    "# 3. Qauality check and Filtering"
   ]
  },
  {
   "cell_type": "code",
   "execution_count": 9,
   "metadata": {
    "vscode": {
     "languageId": "r"
    }
   },
   "outputs": [
    {
     "data": {
      "image/png": "[encoded data removed]",
      "text/plain": [
       "Plot with title \"Histogram of Matrix::colSums(exprs(input_cds))\""
      ]
     },
     "metadata": {
      "image/png": {
       "height": 420,
       "width": 420
      }
     },
     "output_type": "display_data"
    }
   ],
   "source": [
    "# Visualize peak_count_per_cell\n",
    "hist(Matrix::colSums(exprs(input_cds)))"
   ]
  },
  {
   "cell_type": "code",
   "execution_count": 10,
   "metadata": {
    "vscode": {
     "languageId": "r"
    }
   },
   "outputs": [],
   "source": [
    "# Filter cells by peak_count\n",
    "# Please set an appropriate threshold values according to your data \n",
    "max_count <-  15000\n",
    "min_count <- 2000\n",
    "input_cds <- input_cds[,Matrix::colSums(exprs(input_cds)) >= min_count] \n",
    "input_cds <- input_cds[,Matrix::colSums(exprs(input_cds)) <= max_count] \n"
   ]
  },
  {
   "cell_type": "markdown",
   "metadata": {},
   "source": [
    "# 4. Process Cicero-CDS object"
   ]
  },
  {
   "cell_type": "code",
   "execution_count": 11,
   "metadata": {
    "vscode": {
     "languageId": "r"
    }
   },
   "outputs": [
    {
     "name": "stderr",
     "output_type": "stream",
     "text": [
      "Overlap QC metrics:\n",
      "Cells per bin: 50\n",
      "Maximum shared cells bin-bin: 44\n",
      "Mean shared cells bin-bin: 2.84387071851661\n",
      "Median shared cells bin-bin: 0\n",
      "\n"
     ]
    },
    {
     "ename": "ERROR",
     "evalue": "Error in eval(expr, envir, enclos): objeto 'output_folder' no encontrado\n",
     "output_type": "error",
     "traceback": [
      "Error in eval(expr, envir, enclos): objeto 'output_folder' no encontrado\nTraceback:\n",
      "1. saveRDS(cicero_cds, paste0(output_folder, \"/cicero_cds.Rds\"))",
      "2. paste0(output_folder, \"/cicero_cds.Rds\")"
     ]
    }
   ],
   "source": [
    "# Data preprocessing\n",
    "set.seed(2017)\n",
    "\n",
    "input_cds <- detect_genes(input_cds)\n",
    "input_cds <- estimate_size_factors(input_cds)\n",
    "input_cds <- preprocess_cds(input_cds, method = \"LSI\")\n",
    "\n",
    "# Dimensional reduction with umap\n",
    "input_cds <- reduce_dimension(input_cds, reduction_method = 'UMAP', \n",
    "                              preprocess_method = \"LSI\")\n",
    "umap_coords <- reducedDims(input_cds)$UMAP\n",
    "\n",
    "\n",
    "cicero_cds <- make_cicero_cds(input_cds, reduced_coordinates = umap_coords)\n",
    "\n",
    "# Save Cds object (Optional)\n",
    "saveRDS(cicero_cds, \"cicero_cds.Rds\")\n",
    "\n"
   ]
  },
  {
   "cell_type": "markdown",
   "metadata": {},
   "source": [
    "# 5. Load reference genome information\n",
    "\n",
    "To run Cicero, you need to get a genomic coordinate file that contains the length of each chromosome.\n",
    "You can download the mm10 genomic information with the following command.\n",
    "\n",
    "If your scATAC-seq data was generated with a different reference genome, you will need to get the genome coordinates file for the reference genome you used. See the Cicero documentation for more information.\n",
    "\n",
    "https://cole-trapnell-lab.github.io/cicero-release/docs_m3/#installing-cicero"
   ]
  },
  {
   "cell_type": "code",
   "execution_count": 13,
   "metadata": {
    "vscode": {
     "languageId": "r"
    }
   },
   "outputs": [],
   "source": [
    "# !!Please make sure that the reference genome information below matches your scATAC-seq reference genome.\n",
    "\n",
    "# If your scATAC-seq was aligned to the mm10 reference genome, you can read the chromosome length file using the following command.\n",
    "download.file(url = \"https://raw.githubusercontent.com/morris-lab/CellOracle/master/docs/demo_data/mm10_chromosome_length.txt\",\n",
    "              destfile = \"./mm10_chromosome_length.txt\")\n",
    "chromosome_length <- read.table(\"./mm10_chromosome_length.txt\")\n",
    "\n",
    "# For mm9 genome, you can use the following command.\n",
    "#data(\"mouse.mm9.genome\")\n",
    "#chromosome_length <- mouse.mm9.genome\n",
    "\n",
    "# For hg19 genome, you can use the following command.\n",
    "#data(\"human.hg19.genome\")\n",
    "#chromosome_length <- mhuman.hg19.genome\n",
    "\n"
   ]
  },
  {
   "cell_type": "markdown",
   "metadata": {},
   "source": [
    "# 6. Run Cicero"
   ]
  },
  {
   "cell_type": "code",
   "execution_count": 14,
   "metadata": {
    "scrolled": true,
    "vscode": {
     "languageId": "r"
    }
   },
   "outputs": [
    {
     "name": "stdout",
     "output_type": "stream",
     "text": [
      "[1] \"Starting Cicero\"\n",
      "[1] \"Calculating distance_parameter value\"\n",
      "[1] \"Running models\"\n",
      "[1] \"Assembling connections\"\n",
      "[1] \"Successful cicero models:  9311\"\n",
      "[1] \"Other models: \"\n",
      "\n",
      "Zero or one element in range \n",
      "                        1650 \n",
      "[1] \"Models with errors:  0\"\n",
      "[1] \"Done\"\n"
     ]
    },
    {
     "data": {
      "text/html": [
       "<table class=\"dataframe\">\n",
       "<caption>A data.frame: 6 × 3</caption>\n",
       "<thead>\n",
       "\t<tr><th></th><th scope=col>Peak1</th><th scope=col>Peak2</th><th scope=col>coaccess</th></tr>\n",
       "\t<tr><th></th><th scope=col>&lt;chr&gt;</th><th scope=col>&lt;fct&gt;</th><th scope=col>&lt;dbl&gt;</th></tr>\n",
       "</thead>\n",
       "<tbody>\n",
       "\t<tr><th scope=row>1</th><td>chr10_100013963_100014429</td><td>chr10_99750232_99750406</td><td>0.001334807</td></tr>\n",
       "\t<tr><th scope=row>2</th><td>chr10_100013963_100014429</td><td>chr10_99759642_99759789</td><td>0.000000000</td></tr>\n",
       "\t<tr><th scope=row>3</th><td>chr10_100013963_100014429</td><td>chr10_99829469_99829829</td><td>0.000000000</td></tr>\n",
       "\t<tr><th scope=row>4</th><td>chr10_100013963_100014429</td><td>chr10_99834942_99835260</td><td>0.000000000</td></tr>\n",
       "\t<tr><th scope=row>5</th><td>chr10_100013963_100014429</td><td>chr10_99839536_99839644</td><td>0.019234538</td></tr>\n",
       "\t<tr><th scope=row>6</th><td>chr10_100013963_100014429</td><td>chr10_99840217_99841136</td><td>0.119582621</td></tr>\n",
       "</tbody>\n",
       "</table>\n"
      ],
      "text/latex": [
       "A data.frame: 6 × 3\n",
       "\\begin{tabular}{r|lll}\n",
       "  & Peak1 & Peak2 & coaccess\\\\\n",
       "  & <chr> & <fct> & <dbl>\\\\\n",
       "\\hline\n",
       "\t1 & chr10\\_100013963\\_100014429 & chr10\\_99750232\\_99750406 & 0.001334807\\\\\n",
       "\t2 & chr10\\_100013963\\_100014429 & chr10\\_99759642\\_99759789 & 0.000000000\\\\\n",
       "\t3 & chr10\\_100013963\\_100014429 & chr10\\_99829469\\_99829829 & 0.000000000\\\\\n",
       "\t4 & chr10\\_100013963\\_100014429 & chr10\\_99834942\\_99835260 & 0.000000000\\\\\n",
       "\t5 & chr10\\_100013963\\_100014429 & chr10\\_99839536\\_99839644 & 0.019234538\\\\\n",
       "\t6 & chr10\\_100013963\\_100014429 & chr10\\_99840217\\_99841136 & 0.119582621\\\\\n",
       "\\end{tabular}\n"
      ],
      "text/markdown": [
       "\n",
       "A data.frame: 6 × 3\n",
       "\n",
       "| <!--/--> | Peak1 &lt;chr&gt; | Peak2 &lt;fct&gt; | coaccess &lt;dbl&gt; |\n",
       "|---|---|---|---|\n",
       "| 1 | chr10_100013963_100014429 | chr10_99750232_99750406 | 0.001334807 |\n",
       "| 2 | chr10_100013963_100014429 | chr10_99759642_99759789 | 0.000000000 |\n",
       "| 3 | chr10_100013963_100014429 | chr10_99829469_99829829 | 0.000000000 |\n",
       "| 4 | chr10_100013963_100014429 | chr10_99834942_99835260 | 0.000000000 |\n",
       "| 5 | chr10_100013963_100014429 | chr10_99839536_99839644 | 0.019234538 |\n",
       "| 6 | chr10_100013963_100014429 | chr10_99840217_99841136 | 0.119582621 |\n",
       "\n"
      ],
      "text/plain": [
       "  Peak1                     Peak2                   coaccess   \n",
       "1 chr10_100013963_100014429 chr10_99750232_99750406 0.001334807\n",
       "2 chr10_100013963_100014429 chr10_99759642_99759789 0.000000000\n",
       "3 chr10_100013963_100014429 chr10_99829469_99829829 0.000000000\n",
       "4 chr10_100013963_100014429 chr10_99834942_99835260 0.000000000\n",
       "5 chr10_100013963_100014429 chr10_99839536_99839644 0.019234538\n",
       "6 chr10_100013963_100014429 chr10_99840217_99841136 0.119582621"
      ]
     },
     "metadata": {},
     "output_type": "display_data"
    }
   ],
   "source": [
    "# Run the main function\n",
    "conns <- run_cicero(cicero_cds, chromosome_length) # Takes a few minutes to run\n",
    "\n",
    "# Save results (Optional)\n",
    "#saveRDS(conns, \"/cicero_connections.Rds\")\n",
    "\n",
    "# Check results\n",
    "head(conns)"
   ]
  },
  {
   "cell_type": "code",
   "execution_count": 16,
   "metadata": {
    "vscode": {
     "languageId": "r"
    }
   },
   "outputs": [],
   "source": [
    "saveRDS(conns, \"cicero_Zhu_et_al_connections.Rds\")"
   ]
  },
  {
   "cell_type": "markdown",
   "metadata": {},
   "source": [
    "# 7. Save results for the next step"
   ]
  },
  {
   "cell_type": "code",
   "execution_count": 17,
   "metadata": {
    "vscode": {
     "languageId": "r"
    }
   },
   "outputs": [],
   "source": [
    "all_peaks <- row.names(exprs(input_cds))\n",
    "write.csv(x = all_peaks, file = \"all_peaks.csv\")\n",
    "write.csv(x = conns, file = \"cicero_connections.csv\")\n"
   ]
  },
  {
   "cell_type": "markdown",
   "metadata": {},
   "source": [
    "**Please go to next step: TSS annotation**\n",
    "\n",
    "https://morris-lab.github.io/CellOracle.documentation/tutorials/base_grn.html#step2-tss-annotation"
   ]
  },
  {
   "cell_type": "code",
   "execution_count": null,
   "metadata": {
    "vscode": {
     "languageId": "r"
    }
   },
   "outputs": [],
   "source": []
  }
 ],
 "metadata": {
  "finalized": {
   "timestamp": 1642784300853,
   "trusted": true
  },
  "kernelspec": {
   "display_name": "R",
   "language": "R",
   "name": "ir"
  },
  "language_info": {
   "codemirror_mode": "r",
   "file_extension": ".r",
   "mimetype": "text/x-r-source",
   "name": "R",
   "pygments_lexer": "r",
   "version": "4.3.2"
  }
 },
 "nbformat": 4,
 "nbformat_minor": 2
}
